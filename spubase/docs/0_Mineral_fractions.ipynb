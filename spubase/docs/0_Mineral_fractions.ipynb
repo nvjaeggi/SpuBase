{
 "cells": [
  {
   "cell_type": "markdown",
   "metadata": {},
   "source": []
  },
  {
   "cell_type": "code",
   "execution_count": null,
   "metadata": {},
   "outputs": [],
   "source": [
    "from spubase.data_access import Particles\n",
    "import pandas as pd"
   ]
  },
  {
   "cell_type": "markdown",
   "source": [
    "# Initialize SpuBase"
   ],
   "metadata": {
    "collapsed": false
   }
  },
  {
   "cell_type": "code",
   "execution_count": null,
   "outputs": [],
   "source": [
    "SpuBase = Particles(verbose=True, show_plot=False)  # create object (acts as 'self' and is used to call globals)"
   ],
   "metadata": {
    "collapsed": false
   }
  },
  {
   "cell_type": "markdown",
   "source": [
    "#### Setup usrface mineral fractions"
   ],
   "metadata": {
    "collapsed": false
   }
  },
  {
   "cell_type": "code",
   "execution_count": null,
   "outputs": [],
   "source": [
    "SpuBase.casename = 'Feldspar'  # name that is used for output folder and files\n",
    "\n",
    "mineraldict = {'Ab':0.33, 'An':0.33, 'Or':0.33} # mineral short forms and their fractions given as dictionary\n",
    "minfrac = pd.DataFrame.from_dict(mineraldict, orient='index', columns=['frac'])"
   ],
   "metadata": {
    "collapsed": false
   }
  },
  {
   "cell_type": "markdown",
   "source": [
    "#### Optional Inputs"
   ],
   "metadata": {
    "collapsed": false
   }
  },
  {
   "cell_type": "code",
   "execution_count": null,
   "outputs": [],
   "source": [
    "# SpuBase.update_file_format('pdf') # plot format, choose between 'pdf', 'png', 'svg', 'tiff'\n",
    "# impactor = 'SW' # either 1 keV H ('H'), 4 keV He ('He') or default: both ('SW')\n",
    "# SpuBase.update_impactor(impactor, comp_frac=[0.96, 0.04])  # different mixture of H, He (Significantly effects yield and angular distribution!)\n",
    "# SpuBase.sulfur_diffusion = False  # turns off S diffusion in sulfides (gets turned off automatically if impactor != 'SW'\n",
    "# SpuBase.v_esc = 2380 # m/s  escape velocity of irradiated body\n",
    "# SpuBase.return_amu_ion = True  # plot total mass yield in amu/ion instead of atomic yields\n",
    "# SpuBase.is_summed_up = False  # return result for each individual species separately instead of summing components"
   ],
   "metadata": {
    "collapsed": false
   }
  },
  {
   "cell_type": "markdown",
   "metadata": {},
   "source": [
    "#### Change ouput directory to DATABASE/output/casename"
   ]
  },
  {
   "cell_type": "code",
   "execution_count": null,
   "metadata": {},
   "outputs": [],
   "source": [
    "SpuBase.update_directory()"
   ]
  },
  {
   "cell_type": "markdown",
   "metadata": {},
   "source": [
    "#### Pass surface composition to SpuBase and call data"
   ]
  },
  {
   "cell_type": "code",
   "execution_count": null,
   "outputs": [],
   "source": [
    "SpuBase.surfcomp(minfrac.T, form='vol%')  # other options are 'wt%' or 'mol%'\n",
    "SpuBase.minfrac_a"
   ],
   "metadata": {
    "collapsed": false
   }
  },
  {
   "cell_type": "markdown",
   "source": [],
   "metadata": {
    "collapsed": false
   }
  },
  {
   "cell_type": "markdown",
   "source": [
    "#### Create DataFrame based on input"
   ],
   "metadata": {
    "collapsed": false
   }
  },
  {
   "cell_type": "code",
   "execution_count": null,
   "outputs": [],
   "source": [
    "SpuBase.dataseries()"
   ],
   "metadata": {
    "collapsed": false
   }
  },
  {
   "cell_type": "code",
   "execution_count": null,
   "outputs": [],
   "source": [
    "SpuBase.yield_df  # yield gets written into the output file together with the particle angular and energy fit parameter"
   ],
   "metadata": {
    "collapsed": false
   }
  },
  {
   "cell_type": "markdown",
   "metadata": {},
   "source": [
    "#### Plot data"
   ]
  },
  {
   "cell_type": "code",
   "execution_count": null,
   "metadata": {},
   "outputs": [],
   "source": [
    "fig, ax = SpuBase.plot_yield()\n",
    "fig"
   ]
  },
  {
   "cell_type": "markdown",
   "source": [
    "#### Set up plotting parameters for particle data"
   ],
   "metadata": {
    "collapsed": false
   }
  },
  {
   "cell_type": "code",
   "execution_count": null,
   "outputs": [],
   "source": [
    "SpuBase.dist_angle = 45 # set distribution angle (default: 45°)\n",
    "SpuBase.sputtered_particles_data()"
   ],
   "metadata": {
    "collapsed": false
   }
  },
  {
   "cell_type": "code",
   "execution_count": null,
   "outputs": [],
   "source": [
    "fig_adist, ax_adist = SpuBase.plot_dist('angular', title='')\n",
    "fig_adist"
   ],
   "metadata": {
    "collapsed": false
   }
  },
  {
   "cell_type": "code",
   "execution_count": null,
   "outputs": [],
   "source": [
    "fig_edist, ax_edist = SpuBase.plot_dist('energy', title='')\n",
    "fig_edist"
   ],
   "metadata": {
    "collapsed": false
   }
  },
  {
   "cell_type": "markdown",
   "metadata": {},
   "source": []
  },
  {
   "cell_type": "code",
   "execution_count": null,
   "metadata": {},
   "outputs": [],
   "source": []
  },
  {
   "cell_type": "code",
   "execution_count": null,
   "metadata": {},
   "outputs": [],
   "source": []
  },
  {
   "cell_type": "code",
   "execution_count": null,
   "metadata": {},
   "outputs": [],
   "source": []
  }
 ],
 "metadata": {
  "kernelspec": {
   "display_name": "Python 3 (ipykernel)",
   "language": "python",
   "name": "python3"
  },
  "language_info": {
   "codemirror_mode": {
    "name": "ipython",
    "version": 3
   },
   "file_extension": ".py",
   "mimetype": "text/x-python",
   "name": "python",
   "nbconvert_exporter": "python",
   "pygments_lexer": "ipython3",
   "version": "3.10.12"
  }
 },
 "nbformat": 4,
 "nbformat_minor": 1
}
